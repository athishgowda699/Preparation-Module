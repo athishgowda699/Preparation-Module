{
 "cells": [
  {
   "cell_type": "markdown",
   "id": "509ab75f",
   "metadata": {},
   "source": [
    "#### 1) Finding the percentage"
   ]
  },
  {
   "cell_type": "code",
   "execution_count": 10,
   "id": "32556d9d",
   "metadata": {},
   "outputs": [
    {
     "name": "stdout",
     "output_type": "stream",
     "text": [
      "number of students : 1\n",
      "enter name : athish\n",
      "enter marks : \n",
      "98 87 65\n",
      "enter the name to calculate : athish\n",
      "avg is :  83.33\n"
     ]
    }
   ],
   "source": [
    "n=int(input('number of students : '))\n",
    "details={}\n",
    "for i in range(n):\n",
    "    name=input('enter name : ').lower()\n",
    "    print('enter marks : ')\n",
    "    marks=list(map(int,input().split()))\n",
    "    details[name]=marks\n",
    "    \n",
    "query=input('enter the name to calculate : ').lower()\n",
    "\n",
    "for j in details:\n",
    "    if j==query:\n",
    "        avg=sum(details[query])/len(details[query])\n",
    "    else:\n",
    "        pass\n",
    "print('avg is : ',format(avg,'.2f'))\n",
    "    "
   ]
  },
  {
   "cell_type": "markdown",
   "id": "168b20cb",
   "metadata": {},
   "source": [
    "#### 2) String Split and Join"
   ]
  },
  {
   "cell_type": "code",
   "execution_count": 12,
   "id": "9559026c",
   "metadata": {},
   "outputs": [
    {
     "name": "stdout",
     "output_type": "stream",
     "text": [
      "enter a string : athish gowda k\n",
      "athish-gowda-k\n"
     ]
    }
   ],
   "source": [
    "def split_and_join(str1):\n",
    "    str2=str1.split()\n",
    "    str3='-'.join(str2)\n",
    "    print(str3)\n",
    "    \n",
    "\n",
    "\n",
    "\n",
    "str1=input('enter a string : ')\n",
    "split_and_join(str1)"
   ]
  },
  {
   "cell_type": "markdown",
   "id": "809d3d3b",
   "metadata": {},
   "source": [
    "#### 3) Set .intersection() Operation"
   ]
  },
  {
   "cell_type": "code",
   "execution_count": 23,
   "id": "fa586bc6",
   "metadata": {},
   "outputs": [
    {
     "name": "stdout",
     "output_type": "stream",
     "text": [
      "the number of students who have subscribed to the English newspaper : 9\n",
      "Roll numbers : 1 2 3 4 5 6 7 8 9\n",
      "the number of students who have subscribed to the French newspaper : 9\n",
      "Roll numbers : 10 1 2 3 11 21 55 6 8\n",
      "5\n"
     ]
    }
   ],
   "source": [
    "n=int(input('the number of students who have subscribed to the English newspaper : '))\n",
    "a=set(map(int,input('Roll numbers : ').split()))\n",
    "n1=int(input('the number of students who have subscribed to the French newspaper : '))\n",
    "b=set(map(int,input('Roll numbers : ').split()))\n",
    "\n",
    "print(len(a.intersection(b)))"
   ]
  },
  {
   "cell_type": "markdown",
   "id": "cc5f597a",
   "metadata": {},
   "source": [
    "#### 4) Find the Runner-Up Score!"
   ]
  },
  {
   "cell_type": "code",
   "execution_count": 25,
   "id": "cb785bae",
   "metadata": {},
   "outputs": [
    {
     "name": "stdout",
     "output_type": "stream",
     "text": [
      "Enter the scores : 2 3 6 6 5\n",
      "5\n"
     ]
    }
   ],
   "source": [
    "scores=list(map(int,input('Enter the scores : ').split()))\n",
    "\n",
    "scores1=sorted(list(set(scores)))\n",
    "\n",
    "print(scores1[-2])"
   ]
  },
  {
   "cell_type": "markdown",
   "id": "51ebee30",
   "metadata": {},
   "source": [
    "#### 5) sWAP cASE"
   ]
  },
  {
   "cell_type": "code",
   "execution_count": 3,
   "id": "c8f65674",
   "metadata": {},
   "outputs": [
    {
     "name": "stdout",
     "output_type": "stream",
     "text": [
      "enter a string : Www.HackerRank.com\n",
      "wWW.hACKERrANK.COM\n"
     ]
    }
   ],
   "source": [
    "def swapcase(str2):\n",
    "    str3=''\n",
    "    for i in str2:\n",
    "        if i==i.lower():\n",
    "            str3+=i.upper()\n",
    "        elif i==i.upper():\n",
    "            str3+=i.lower()\n",
    "        else:\n",
    "            str3+=i\n",
    "    print(str3)\n",
    "\n",
    "\n",
    "\n",
    "\n",
    "str2=input('enter a string : ')\n",
    "swapcase(str2)\n"
   ]
  },
  {
   "cell_type": "markdown",
   "id": "91c431a8",
   "metadata": {},
   "source": [
    "#### 6) Arithmetic Operators"
   ]
  },
  {
   "cell_type": "code",
   "execution_count": 4,
   "id": "d2b98a65",
   "metadata": {},
   "outputs": [
    {
     "name": "stdout",
     "output_type": "stream",
     "text": [
      "3\n",
      "2\n",
      "5\n",
      "1\n",
      "6\n"
     ]
    }
   ],
   "source": [
    "def arithmetic(a,b):\n",
    "    print(a+b)\n",
    "    print(a-b)\n",
    "    print(a*b)\n",
    "\n",
    "a=int(input())\n",
    "b=int(input())\n",
    "arithmetic(a,b)"
   ]
  },
  {
   "cell_type": "markdown",
   "id": "e316f587",
   "metadata": {},
   "source": [
    "#### 7) Python: Division"
   ]
  },
  {
   "cell_type": "code",
   "execution_count": null,
   "id": "dab06b6d",
   "metadata": {},
   "outputs": [],
   "source": [
    "a=int(input())\n",
    "b=int(input())\n",
    "\n",
    "print(a//b)\n",
    "print(a/b)"
   ]
  },
  {
   "cell_type": "markdown",
   "id": "eae2446d",
   "metadata": {},
   "source": [
    "#### 8) Python If-Else"
   ]
  },
  {
   "cell_type": "code",
   "execution_count": 7,
   "id": "7c9afa47",
   "metadata": {},
   "outputs": [
    {
     "name": "stdout",
     "output_type": "stream",
     "text": [
      "enter a number : 22\n",
      "Not Weird\n"
     ]
    }
   ],
   "source": [
    "n=int(input('enter a number : '))\n",
    "\n",
    "if n%2!=0:\n",
    "    print('Weird')\n",
    "elif n%2==0 and 5>=n>=2:\n",
    "    print('Not Weird')\n",
    "elif n%2==0 and 20>=n>=6:\n",
    "    print('Weird')\n",
    "else:\n",
    "    if n%2==0 and n>20:\n",
    "        print('Not Weird')\n",
    "        \n",
    "    "
   ]
  },
  {
   "cell_type": "markdown",
   "id": "b954fd39",
   "metadata": {},
   "source": [
    "#### 9) Nested Lists"
   ]
  },
  {
   "cell_type": "code",
   "execution_count": 10,
   "id": "bbd8fa03",
   "metadata": {},
   "outputs": [
    {
     "name": "stdout",
     "output_type": "stream",
     "text": [
      "enter the number of students : 3\n",
      "enter the name : athish\n",
      "enter the score : 34.56\n",
      "enter the name : akshay\n",
      "enter the score : 34.56\n",
      "enter the name : sheela\n",
      "enter the score : 12\n",
      "akshay\n",
      "athish\n"
     ]
    }
   ],
   "source": [
    "python_students=[]\n",
    "\n",
    "for i in range(int(input('enter the number of students : '))):\n",
    "    name=input('enter the name : ')\n",
    "    score=float(input('enter the score : '))\n",
    "    python_students.append([name,score])\n",
    "\n",
    "\n",
    "details=dict()\n",
    "marks=[]\n",
    "for i in python_students:\n",
    "    details[i[0]]=i[1]\n",
    "    marks.append(i[1])\n",
    "\n",
    "marks1=sorted(list(set(marks)))[1]\n",
    "\n",
    "final_list=[]\n",
    "for j in details:\n",
    "    if details[j]==marks1:\n",
    "        final_list.append(j)\n",
    "final_list=sorted(final_list)\n",
    "\n",
    "for k in final_list:\n",
    "    print(k)\n",
    "        \n",
    "\n"
   ]
  },
  {
   "cell_type": "markdown",
   "id": "78151da8",
   "metadata": {},
   "source": [
    "#### 10) Loops"
   ]
  },
  {
   "cell_type": "code",
   "execution_count": 12,
   "id": "63e88d4e",
   "metadata": {},
   "outputs": [
    {
     "name": "stdout",
     "output_type": "stream",
     "text": [
      "Enter the number upto you need square : 5\n",
      "0\n",
      "1\n",
      "4\n",
      "9\n",
      "16\n"
     ]
    }
   ],
   "source": [
    "def square(list1):\n",
    "    for i in list1:\n",
    "        print(i**2)\n",
    "        \n",
    "list1=list(range(int(input('Enter the number upto you need square : '))))\n",
    "square(list1)"
   ]
  },
  {
   "cell_type": "markdown",
   "id": "4dee4ded",
   "metadata": {},
   "source": [
    "#### 11) Write a function"
   ]
  },
  {
   "cell_type": "code",
   "execution_count": 17,
   "id": "56e193d8",
   "metadata": {},
   "outputs": [
    {
     "name": "stdout",
     "output_type": "stream",
     "text": [
      "1992\n"
     ]
    },
    {
     "data": {
      "text/plain": [
       "True"
      ]
     },
     "execution_count": 17,
     "metadata": {},
     "output_type": "execute_result"
    }
   ],
   "source": [
    "def leap_year(year):\n",
    "    if year%4==0:\n",
    "        if year%100==0:\n",
    "            if year%400==0:\n",
    "                return True\n",
    "            else:\n",
    "                return False\n",
    "        else:\n",
    "            return True\n",
    "    else:\n",
    "        return False\n",
    "\n",
    "\n",
    "year=int(input())\n",
    "leap_year(year)"
   ]
  },
  {
   "cell_type": "markdown",
   "id": "51327dbd",
   "metadata": {},
   "source": [
    "#### 12) Find a string"
   ]
  },
  {
   "cell_type": "code",
   "execution_count": 29,
   "id": "ed625117",
   "metadata": {},
   "outputs": [
    {
     "name": "stdout",
     "output_type": "stream",
     "text": [
      "ABCDCDC\n",
      "CDC\n",
      "2\n"
     ]
    }
   ],
   "source": [
    "def count_substring(string,sub_string):\n",
    "    count=0\n",
    "    for i in range(len(string)):\n",
    "        if string[i:i+len(sub_string)]==sub_string:\n",
    "            count+=1        \n",
    "    return count\n",
    "\n",
    "string = input().strip()\n",
    "sub_string = input().strip()\n",
    "count=count_substring(string, sub_string)\n",
    "print(count)"
   ]
  },
  {
   "cell_type": "markdown",
   "id": "82d3379f",
   "metadata": {},
   "source": [
    "#### 13) Lists"
   ]
  },
  {
   "cell_type": "code",
   "execution_count": 34,
   "id": "dff3598a",
   "metadata": {},
   "outputs": [
    {
     "name": "stdout",
     "output_type": "stream",
     "text": [
      "Enter the number of operations : 5\n",
      "Enter the operation you want to perform : append 4\n",
      "Enter the operation you want to perform : append 8\n",
      "Enter the operation you want to perform : insert 9 1\n",
      "Enter the operation you want to perform : remove 8\n",
      "Enter the operation you want to perform : print\n",
      "[4, 9]\n"
     ]
    }
   ],
   "source": [
    "number=int(input('Enter the number of operations : '))\n",
    "list1=[]\n",
    "for i in range(number):\n",
    "    op=input('Enter the operation you want to perform : ').lower().split()\n",
    "    if op[0]=='insert':\n",
    "        list1.insert(int(op[1]),int(op[2]))\n",
    "    elif op[0]=='print':\n",
    "        print(list1)\n",
    "    elif op[0]=='remove':\n",
    "        list1.remove(int(op[1]))\n",
    "    elif op[0]=='append':\n",
    "        list1.append(int(op[1]))\n",
    "    elif op[0]=='sort':\n",
    "        list1.sort()\n",
    "    elif op[0]=='pop':\n",
    "        list1.pop()\n",
    "    else:\n",
    "        list1.reverse()\n",
    "    "
   ]
  },
  {
   "cell_type": "code",
   "execution_count": null,
   "id": "78ea55e5",
   "metadata": {},
   "outputs": [],
   "source": []
  }
 ],
 "metadata": {
  "kernelspec": {
   "display_name": "Python 3 (ipykernel)",
   "language": "python",
   "name": "python3"
  },
  "language_info": {
   "codemirror_mode": {
    "name": "ipython",
    "version": 3
   },
   "file_extension": ".py",
   "mimetype": "text/x-python",
   "name": "python",
   "nbconvert_exporter": "python",
   "pygments_lexer": "ipython3",
   "version": "3.10.1"
  }
 },
 "nbformat": 4,
 "nbformat_minor": 5
}
