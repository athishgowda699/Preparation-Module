{
 "cells": [
  {
   "cell_type": "markdown",
   "id": "fd79db31",
   "metadata": {},
   "source": [
    "#### 1) itertools.combinations()"
   ]
  },
  {
   "cell_type": "code",
   "execution_count": 1,
   "id": "c5018e38",
   "metadata": {},
   "outputs": [
    {
     "name": "stdout",
     "output_type": "stream",
     "text": [
      "HACK 2\n",
      "A\n",
      "C\n",
      "H\n",
      "K\n",
      "AC\n",
      "AH\n",
      "AK\n",
      "CH\n",
      "CK\n",
      "HK\n"
     ]
    }
   ],
   "source": [
    "from itertools import combinations\n",
    "\n",
    "s,k=input().split()\n",
    "k=int(k)\n",
    "\n",
    "for i in range(1,k+1):\n",
    "    for j in combinations(sorted(s),i):\n",
    "        print(''.join(j))\n",
    "\n",
    "\n",
    "\n"
   ]
  },
  {
   "cell_type": "markdown",
   "id": "25af9a0d",
   "metadata": {},
   "source": [
    "#### 2) itertools.product()"
   ]
  },
  {
   "cell_type": "code",
   "execution_count": 4,
   "id": "c298d63a",
   "metadata": {},
   "outputs": [
    {
     "name": "stdout",
     "output_type": "stream",
     "text": [
      "1 2\n",
      "3 4\n",
      "(1, 3) (1, 4) (2, 3) (2, 4) "
     ]
    }
   ],
   "source": [
    "from itertools import product\n",
    "\n",
    "A=list(map(int,input().split()))\n",
    "B=list(map(int,input().split()))\n",
    "\n",
    "c=(list(product(A,B)))\n",
    "\n",
    "for i in c:\n",
    "    print(i,end=' ')\n",
    "\n"
   ]
  },
  {
   "cell_type": "markdown",
   "id": "d849ab27",
   "metadata": {},
   "source": [
    "#### 3) itertools.permutations()"
   ]
  },
  {
   "cell_type": "code",
   "execution_count": 7,
   "id": "43eb6cf5",
   "metadata": {},
   "outputs": [
    {
     "name": "stdout",
     "output_type": "stream",
     "text": [
      "hack 2\n",
      "ac\n",
      "ah\n",
      "ak\n",
      "ca\n",
      "ch\n",
      "ck\n",
      "ha\n",
      "hc\n",
      "hk\n",
      "ka\n",
      "kc\n",
      "kh\n"
     ]
    }
   ],
   "source": [
    "from itertools import permutations\n",
    "\n",
    "s,k=input().split()\n",
    "k=int(k)\n",
    "\n",
    "c=list(permutations(sorted(s),k))\n",
    "\n",
    "for i in c:\n",
    "    print(''.join(i))\n",
    "\n",
    "\n",
    "\n"
   ]
  },
  {
   "cell_type": "code",
   "execution_count": null,
   "id": "d8d479e1",
   "metadata": {},
   "outputs": [],
   "source": []
  }
 ],
 "metadata": {
  "kernelspec": {
   "display_name": "Python 3 (ipykernel)",
   "language": "python",
   "name": "python3"
  },
  "language_info": {
   "codemirror_mode": {
    "name": "ipython",
    "version": 3
   },
   "file_extension": ".py",
   "mimetype": "text/x-python",
   "name": "python",
   "nbconvert_exporter": "python",
   "pygments_lexer": "ipython3",
   "version": "3.10.1"
  }
 },
 "nbformat": 4,
 "nbformat_minor": 5
}
