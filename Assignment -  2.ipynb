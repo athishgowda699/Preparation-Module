{
 "cells": [
  {
   "cell_type": "markdown",
   "id": "974ddbe2",
   "metadata": {},
   "source": [
    "#### 1) Map and Lambda Function"
   ]
  },
  {
   "cell_type": "code",
   "execution_count": 13,
   "id": "c04726b8",
   "metadata": {},
   "outputs": [
    {
     "name": "stdout",
     "output_type": "stream",
     "text": [
      "4\n",
      "[0, 1, 1, 8]\n"
     ]
    }
   ],
   "source": [
    "number=int(input())\n",
    "\n",
    "cube=lambda x:x**3\n",
    "\n",
    "def fibonacci(n):\n",
    "    list1=[]\n",
    "    a,b=0,1\n",
    "    for i in range(n):\n",
    "        list1.append(a)\n",
    "        a,b=b,a+b\n",
    "    return list1\n",
    "        \n",
    "print(list(map(cube,fibonacci(number))))\n",
    "        \n",
    "        \n",
    "    "
   ]
  },
  {
   "cell_type": "markdown",
   "id": "97ad29b7",
   "metadata": {},
   "source": [
    "#### 2) List Comprehensions"
   ]
  },
  {
   "cell_type": "code",
   "execution_count": 29,
   "id": "500770eb",
   "metadata": {},
   "outputs": [
    {
     "name": "stdout",
     "output_type": "stream",
     "text": [
      "[[0, 0, 0], [0, 0, 1], [0, 1, 0], [0, 1, 1], [1, 0, 0], [1, 0, 1], [1, 1, 0], [2, 0, 0], [2, 1, 1]]\n"
     ]
    }
   ],
   "source": [
    "x=1\n",
    "y=1\n",
    "z=2\n",
    "n=3\n",
    "\n",
    "list1=[]\n",
    "for k in range(z+1):\n",
    "    for j in range(y+1):\n",
    "        for i in range(x+1):\n",
    "            if i+j+k!=n:\n",
    "                list1.append([k,j,i])\n",
    "            else:\n",
    "                pass\n",
    "            \n",
    "print(list1)\n",
    "            "
   ]
  },
  {
   "cell_type": "code",
   "execution_count": 34,
   "id": "07004ebf",
   "metadata": {},
   "outputs": [
    {
     "name": "stdout",
     "output_type": "stream",
     "text": [
      "[[0, 0, 0], [0, 0, 1], [0, 0, 2], [0, 1, 0], [0, 1, 1], [1, 0, 0], [1, 0, 1], [1, 1, 0], [1, 1, 2]]\n"
     ]
    }
   ],
   "source": [
    "print([[i,j,k] for i in range(x+1) for j in range(y+1) for k in range(z+1) if (i+j+k)!=n])"
   ]
  },
  {
   "cell_type": "markdown",
   "id": "efd33a9c",
   "metadata": {},
   "source": [
    "#### 3) Matching Specific String"
   ]
  },
  {
   "cell_type": "code",
   "execution_count": 53,
   "id": "f3ee77af",
   "metadata": {},
   "outputs": [
    {
     "name": "stdout",
     "output_type": "stream",
     "text": [
      "The hackerrank team is on a mission to flatten the world by restructuring the DNA of every company on the planet. We rank programmers based on their coding skills, helping companies source great programmers and reduce the time to hire. As a result, we are revolutionizing the way companies discover and evaluate talented engineers. The hackerrank platform is the destination for the best engineers to hone their skills and companies to find top engineers.\n",
      "\n",
      "Number of matches : 2\n"
     ]
    }
   ],
   "source": [
    "Regex_Pattern = r'[h][a-z]{8}[k]'\n",
    "\n",
    "import re\n",
    "\n",
    "Test_String=input()\n",
    "\n",
    "match = re.findall(Regex_Pattern, Test_String)\n",
    "\n",
    "print(\"\\nNumber of matches :\", len(match))"
   ]
  },
  {
   "cell_type": "markdown",
   "id": "0a66a5c8",
   "metadata": {},
   "source": [
    "#### 4) Matching Digits & Non-Digit Characters"
   ]
  },
  {
   "cell_type": "code",
   "execution_count": 3,
   "id": "a8b716be",
   "metadata": {},
   "outputs": [
    {
     "name": "stdout",
     "output_type": "stream",
     "text": [
      "12c12c1111\n",
      "True\n"
     ]
    }
   ],
   "source": [
    "import re\n",
    "\n",
    "Regex_Pattern = r\"\\d\\d\\D\\d\\d\\D\\d\\d\\d\\d\"\n",
    "raw_input=input().lower()\n",
    "\n",
    "print(str(bool(re.search(Regex_Pattern, raw_input))))\n"
   ]
  },
  {
   "cell_type": "markdown",
   "id": "5cde6fb6",
   "metadata": {},
   "source": [
    "#### 5) Matching Specific Characters"
   ]
  },
  {
   "cell_type": "code",
   "execution_count": 42,
   "id": "f8e7fe76",
   "metadata": {},
   "outputs": [
    {
     "name": "stdout",
     "output_type": "stream",
     "text": [
      "1203x.\n",
      "True\n"
     ]
    }
   ],
   "source": [
    "Regex_Pattern = r'^[123][120][xs0][30Aa][xsu][.,]$'\n",
    "\n",
    "import re\n",
    "\n",
    "raw_input=input()\n",
    "\n",
    "print(str(bool(re.search(Regex_Pattern, raw_input))))"
   ]
  },
  {
   "cell_type": "markdown",
   "id": "8a2108a3",
   "metadata": {},
   "source": [
    "#### 6) Matching Character Ranges"
   ]
  },
  {
   "cell_type": "code",
   "execution_count": 49,
   "id": "c35442c5",
   "metadata": {},
   "outputs": [
    {
     "name": "stdout",
     "output_type": "stream",
     "text": [
      "h4CkR\n",
      "True\n"
     ]
    }
   ],
   "source": [
    "Regex_Pattern = r'^[a-z][1-9][^a-z][^A-Z][A-Z]'\n",
    "\n",
    "import re\n",
    "\n",
    "raw_input=input()\n",
    "\n",
    "print(str(bool(re.search(Regex_Pattern, raw_input))))"
   ]
  },
  {
   "cell_type": "markdown",
   "id": "0a365169",
   "metadata": {},
   "source": [
    "#### 7) Matching Start & End"
   ]
  },
  {
   "cell_type": "code",
   "execution_count": 50,
   "id": "3abddc06",
   "metadata": {},
   "outputs": [
    {
     "name": "stdout",
     "output_type": "stream",
     "text": [
      "0qwer.\n",
      "True\n"
     ]
    }
   ],
   "source": [
    "Regex_Pattern = r\"^\\d{1}\\w{4}[.]$\"\t# Do not delete 'r'.\n",
    "\n",
    "import re\n",
    "\n",
    "raw_input=input()\n",
    "\n",
    "print(str(bool(re.search(Regex_Pattern, raw_input))))"
   ]
  },
  {
   "cell_type": "code",
   "execution_count": null,
   "id": "7bab3b7c",
   "metadata": {},
   "outputs": [],
   "source": []
  }
 ],
 "metadata": {
  "kernelspec": {
   "display_name": "Python 3 (ipykernel)",
   "language": "python",
   "name": "python3"
  },
  "language_info": {
   "codemirror_mode": {
    "name": "ipython",
    "version": 3
   },
   "file_extension": ".py",
   "mimetype": "text/x-python",
   "name": "python",
   "nbconvert_exporter": "python",
   "pygments_lexer": "ipython3",
   "version": "3.10.1"
  }
 },
 "nbformat": 4,
 "nbformat_minor": 5
}
