{
 "cells": [
  {
   "cell_type": "code",
   "execution_count": null,
   "id": "ada02fad",
   "metadata": {},
   "outputs": [],
   "source": [
    "1. What is Python?\n",
    "   Python is a high-level, interpreted, interactive, and object-oriented scripting language created by Guido Van Rossum.\n",
    "It uses English keywords frequently. Python is designed to be highly readable and compatible with different platforms such as \n",
    "Mac, Windows, Linux."
   ]
  },
  {
   "cell_type": "code",
   "execution_count": null,
   "id": "b608591c",
   "metadata": {},
   "outputs": [],
   "source": [
    "2. Python is an interpreted language. Explain.?\n",
    "   An interpreted language is any programming language that executes its statements line by line. Programs written in Python \n",
    "run directly from the source code, with no intermediary compilation step."
   ]
  },
  {
   "cell_type": "code",
   "execution_count": null,
   "id": "e0a3fbe3",
   "metadata": {},
   "outputs": [],
   "source": [
    "3. What are the common built-in data types in Python?\n",
    "   Immutable data types:\n",
    "        Number\n",
    "        String\n",
    "        Tuple\n",
    "    Mutable data types:\n",
    "        List\n",
    "        Dictionary\n",
    "        Set"
   ]
  },
  {
   "cell_type": "code",
   "execution_count": null,
   "id": "a71ba741",
   "metadata": {},
   "outputs": [],
   "source": [
    "4. What is the difference between lists and tuples?\n",
    "    Lists:\n",
    "        1) Lists are mutable, i.e., they can be edited\n",
    "        2) Lists consist of many built-in functions\n",
    "        3) Lists are usually slower than tuples and Lists consume a lot of memory\n",
    "\n",
    "    Tuples:\n",
    "        1) Tuples are immutable\n",
    "        2) Tuples do not consist of any built-in functions\n",
    "        3) Tuples are faster than lists and Tuples consume less memory when compared to lists       "
   ]
  },
  {
   "cell_type": "code",
   "execution_count": null,
   "id": "9ed841f7",
   "metadata": {},
   "outputs": [],
   "source": [
    "5. What are the different types of opeartors in Python?\n",
    "    1) Assignment Operators\n",
    "    2) Identity Operators\n",
    "    3) Arithmetic Operators\n",
    "    4) Membership Operators\n",
    "    5) Comparsion Operators\n",
    "    6) Logical Operators"
   ]
  },
  {
   "cell_type": "code",
   "execution_count": null,
   "id": "96ec96fe",
   "metadata": {},
   "outputs": [],
   "source": [
    "6) What are Python namespaces?\n",
    "    A namespace in python refers to the name which is assigned to each object in python. The objects are variables and \n",
    "functions. As each object is created, its name along with space(the address of the outer function in which the object is),\n",
    "gets created. The namespaces are maintained in python like a dictionary where the key is the namespace and value is the \n",
    "address of the object.\n",
    "There 4 types of namespace in python-\n",
    "1) Built-in namespace\n",
    "2) Global namespace\n",
    "3) Enclosing namespaces\n",
    "4) Local namespaces"
   ]
  },
  {
   "cell_type": "code",
   "execution_count": null,
   "id": "50351470",
   "metadata": {},
   "outputs": [],
   "source": [
    "7) What are Keywords in Python?\n",
    "    Keywords in python are reserved words that have special meaning.They are generally used to define type of variables. \n",
    "Keywords cannot be used for variable or function names. "
   ]
  },
  {
   "cell_type": "code",
   "execution_count": null,
   "id": "b69f6cec",
   "metadata": {},
   "outputs": [],
   "source": [
    "8) What are python modules? Name some commonly used built-in modules in Python?\n",
    "    Python modules are files containing Python code. This code can either be functions classes or variables. A Python module \n",
    "is a .py file containing executable code.\n",
    "\n",
    "Some of the commonly used built-in modules are:\n",
    "\n",
    "-os\n",
    "-sys\n",
    "-math\n",
    "-random\n",
    "-datetime\n",
    "-JSON\n",
    "-CSV \n",
    "-re"
   ]
  },
  {
   "cell_type": "code",
   "execution_count": null,
   "id": "bcb1345b",
   "metadata": {},
   "outputs": [],
   "source": [
    "9)What are local variables and global variables in Python?\n",
    "    Global Variables:\n",
    "        Variables declared outside a function or in global space are called global variables. These variables can be accessed \n",
    "by any function in the program.\n",
    "\n",
    "    Local Variables:\n",
    "        Any variable declared inside a function is known as a local variable. This variable is present in the local space and \n",
    "not in the global space."
   ]
  },
  {
   "cell_type": "code",
   "execution_count": null,
   "id": "559bc663",
   "metadata": {},
   "outputs": [],
   "source": [
    "10) How does break, continue and pass work?\n",
    "    break:\n",
    "        Allows loop termination when some condition is met and the control is transferred to the next statement.\n",
    "    \n",
    "    continue:\n",
    "        Allows skipping some part of a loop when some specific condition is met and the control is transferred to the \n",
    "    beginning of the loop.\n",
    "    \n",
    "    pass:\n",
    "        Used when you need some block of code syntactically, but you want to skip its execution. This is basically a null \n",
    "    operation. Nothing happens when this is executed.\n",
    "    \n"
   ]
  },
  {
   "cell_type": "code",
   "execution_count": null,
   "id": "cc0242ea",
   "metadata": {},
   "outputs": [],
   "source": [
    "11) What are python iterators?\n",
    "    Iterators are objects which can be traversed though or iterated upon."
   ]
  },
  {
   "cell_type": "code",
   "execution_count": null,
   "id": "52a1c8f9",
   "metadata": {},
   "outputs": [],
   "source": [
    "12)  What does this mean: *args, **kwargs? \n",
    "    We use *args when we aren’t sure how many arguments are going to be passed to a function, or if we want to pass a stored \n",
    "list or tuple of arguments to a function. **kwargs is used when we don’t know how many keyword arguments will be passed to a \n",
    "function, or it can be used to pass the values of a dictionary as keyword arguments. "
   ]
  },
  {
   "cell_type": "code",
   "execution_count": null,
   "id": "dec6c826",
   "metadata": {},
   "outputs": [],
   "source": [
    "13) What are Python packages?\n",
    "    Python packages are namespaces containing multiple modules."
   ]
  },
  {
   "cell_type": "code",
   "execution_count": null,
   "id": "19f9ec72",
   "metadata": {},
   "outputs": [],
   "source": [
    "14) What are docstrings in Python?\n",
    "    Docstrings are not actually comments, but, they are documentation strings. These docstrings are within triple quotes. \n",
    "They are not assigned to any variable and therefore, at times, serve the purpose of comments as well."
   ]
  },
  {
   "cell_type": "code",
   "execution_count": null,
   "id": "b6f404d9",
   "metadata": {},
   "outputs": [],
   "source": [
    "15) What are functions in Python?\n",
    "    A function is a block of code which is executed only when it is called. To define a Python function, the def keyword is \n",
    "used."
   ]
  },
  {
   "cell_type": "code",
   "execution_count": null,
   "id": "b726a525",
   "metadata": {},
   "outputs": [],
   "source": [
    "16) Is indentation required in python?\n",
    "    Indentation is necessary for Python. It specifies a block of code. All code within loops, classes, functions, etc is \n",
    "specified within an indented block. It is usually done using four space characters. If your code is not indented necessarily, it will not execute accurately and will throw errors as well."
   ]
  },
  {
   "cell_type": "code",
   "execution_count": null,
   "id": "cabdb72f",
   "metadata": {},
   "outputs": [],
   "source": [
    "17) What is slicing in Python?\n",
    "Slicing is used to access parts of sequences like lists, tuples, and strings. The syntax of slicing is-[start:end:step]. \n",
    "The step can be omitted as well. When we write [start:end] this returns all the elements of the sequence from the start \n",
    "(inclusive) till the end-1 element."
   ]
  },
  {
   "cell_type": "code",
   "execution_count": null,
   "id": "e7ebac1d",
   "metadata": {},
   "outputs": [],
   "source": [
    "18) How Would You Remove All Leading Whitespace in a String?\n",
    "    Python provides the inbuilt function lstrip() to remove all leading spaces from a string."
   ]
  },
  {
   "cell_type": "code",
   "execution_count": null,
   "id": "e594c818",
   "metadata": {},
   "outputs": [],
   "source": [
    "19) What Is the Difference Between Del and Remove() on Lists?\n",
    "    del removes all elements of a list within a given range whereas remove() removes the first occurrence of a particular \n",
    "character."
   ]
  },
  {
   "cell_type": "code",
   "execution_count": null,
   "id": "463edf73",
   "metadata": {},
   "outputs": [],
   "source": [
    "20) What are the three main conditional statements in Python?\n",
    "    if, elif, and else"
   ]
  }
 ],
 "metadata": {
  "kernelspec": {
   "display_name": "Python 3 (ipykernel)",
   "language": "python",
   "name": "python3"
  },
  "language_info": {
   "codemirror_mode": {
    "name": "ipython",
    "version": 3
   },
   "file_extension": ".py",
   "mimetype": "text/x-python",
   "name": "python",
   "nbconvert_exporter": "python",
   "pygments_lexer": "ipython3",
   "version": "3.10.1"
  }
 },
 "nbformat": 4,
 "nbformat_minor": 5
}
